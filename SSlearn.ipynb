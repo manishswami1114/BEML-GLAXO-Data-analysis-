{
 "cells": [
  {
   "cell_type": "code",
   "execution_count": 30,
   "metadata": {},
   "outputs": [],
   "source": [
    "import pandas as pd\n",
    "import numpy as np\n",
    "import matplotlib.pyplot as plt\n",
    "import seaborn as sn \n",
    "from scipy import stats\n",
    "import warnings\n",
    "import matplotlib.pyplot as plt \n",
    "%matplotlib inline\n"
   ]
  },
  {
   "cell_type": "markdown",
   "metadata": {},
   "source": [
    "1. BINOMIAL DISTRIBUTION \n",
    "binomial distribution is a discrete probility distribution and has several applications in many business contexts . A random variable X is said to follow a binomial distibution when :\n",
    "-> The random variable can have only two outcomes - success and failure (also known as bernouili trials).\n",
    "-> The objective is to find the probility of getting X success out of n trials \n",
    "-> The probility of success is P and thus the probility of failure is (1-P)\n",
    "-> The probility P is constant and does not change between trials \n",
    "\n",
    "Success and failure are generic terminoligies  used in binomial distribution , based on the context we will interpret success and failure . Few examples of business problems with two possible outcomes are as follows  "
   ]
  },
  {
   "cell_type": "markdown",
   "metadata": {},
   "source": [
    "-----------------------------------------------------------------------------------------------------------------------------------------------------"
   ]
  },
  {
   "cell_type": "markdown",
   "metadata": {},
   "source": [
    "Probability that exactly 5 customers will return the items "
   ]
  },
  {
   "cell_type": "code",
   "execution_count": 31,
   "metadata": {},
   "outputs": [
    {
     "data": {
      "text/plain": [
       "0.03192136111995444"
      ]
     },
     "execution_count": 31,
     "metadata": {},
     "output_type": "execute_result"
    }
   ],
   "source": [
    "stats.binom.pmf(5,20,0.1)"
   ]
  },
  {
   "cell_type": "code",
   "execution_count": 32,
   "metadata": {},
   "outputs": [
    {
     "data": {
      "text/plain": [
       "Text(0.5, 0, 'number of items returned')"
      ]
     },
     "execution_count": 32,
     "metadata": {},
     "output_type": "execute_result"
    },
    {
     "data": {
      "image/png": "[encoded data removed]",
      "text/plain": [
       "<Figure size 640x480 with 1 Axes>"
      ]
     },
     "metadata": {},
     "output_type": "display_data"
    }
   ],
   "source": [
    "pmf_df = pd.DataFrame({'success':range(0,21),'pmf':list(stats.binom.pmf(range(0,21),20,0.1))})\n",
    "sn.barplot(x=pmf_df.success , y=pmf_df.pmf)\n",
    "plt.ylabel('pmf')\n",
    "plt.xlabel('number of items returned')"
   ]
  },
  {
   "cell_type": "markdown",
   "metadata": {},
   "source": [
    "Probability that Maximum 5 customers will return the items "
   ]
  },
  {
   "cell_type": "code",
   "execution_count": 33,
   "metadata": {},
   "outputs": [
    {
     "data": {
      "text/plain": [
       "0.988746865835491"
      ]
     },
     "execution_count": 33,
     "metadata": {},
     "output_type": "execute_result"
    }
   ],
   "source": [
    "stats.binom.cdf(5,20,0.1)"
   ]
  },
  {
   "cell_type": "markdown",
   "metadata": {},
   "source": [
    "Probability that more than  5 customers will return the items  purchased by them "
   ]
  },
  {
   "cell_type": "code",
   "execution_count": 34,
   "metadata": {},
   "outputs": [
    {
     "data": {
      "text/plain": [
       "0.011253134164509015"
      ]
     },
     "execution_count": 34,
     "metadata": {},
     "output_type": "execute_result"
    }
   ],
   "source": [
    "1- stats.binom.cdf(5,20,0.1)"
   ]
  },
  {
   "cell_type": "markdown",
   "metadata": {},
   "source": [
    "Average number of customers who are likely to return the items and the varience and the standerd deviation of the number of returns.\n",
    "(A) Average of a binomial distribution is given by N*P\n",
    "(B) Variable of the binomial distribution is given by N*P*(1-P) "
   ]
  },
  {
   "cell_type": "code",
   "execution_count": 35,
   "metadata": {},
   "outputs": [
    {
     "name": "stdout",
     "output_type": "stream",
     "text": [
      "Average : 2.0 Variance: 1.8\n"
     ]
    }
   ],
   "source": [
    "mean, var = stats.binom.stats(20,0.1)\n",
    "print(\"Average :\",mean,\"Variance:\",var)"
   ]
  },
  {
   "cell_type": "markdown",
   "metadata": {},
   "source": [
    "2. POISSION DISTRIBUTION"
   ]
  },
  {
   "cell_type": "markdown",
   "metadata": {},
   "source": [
    "-----------------------------------------------------------------------------------------------------------------------------------------------------"
   ]
  },
  {
   "cell_type": "markdown",
   "metadata": {},
   "source": [
    "in many situations , we may be interested in calculating the number of events that may occur over a period of time or space . For Example , number of cancellation of orders by customers at an e-commerce portal,number of customer complaints , number of cash withdrawals at an ATM , number of typographical errors in a book, number of potholes on banglore roads, etc . To find the probility of numbers of events , we use Poission distribution "
   ]
  },
  {
   "cell_type": "code",
   "execution_count": 36,
   "metadata": {},
   "outputs": [
    {
     "data": {
      "text/plain": [
       "0.06708596287903189"
      ]
     },
     "execution_count": 36,
     "metadata": {},
     "output_type": "execute_result"
    }
   ],
   "source": [
    "#Calculate the probability that a maximum of 5 cells will arrive at the cell center. \n",
    "stats.poisson.cdf(5,10)"
   ]
  },
  {
   "cell_type": "code",
   "execution_count": 37,
   "metadata": {},
   "outputs": [
    {
     "data": {
      "text/plain": [
       "0.45164848742208863"
      ]
     },
     "execution_count": 37,
     "metadata": {},
     "output_type": "execute_result"
    }
   ],
   "source": [
    "# Calculate the probabilty that the number of cells over a 3- hour period will exceed 30.\n",
    "1 - stats.poisson.cdf(30,30)"
   ]
  },
  {
   "cell_type": "markdown",
   "metadata": {},
   "source": [
    "To visualize the poisson distribution for the average calls per hour as 10,we can plot PMF for all possible number of cells the call center can receive ranging from 0 to 30 . we will create a DataFrame which will contain the number of cells ranging from 0 to 30 in one column named success and the corresponding PMFs in another column named pmf. The plotting is done using barplot in seaborn liberary."
   ]
  },
  {
   "cell_type": "code",
   "execution_count": 38,
   "metadata": {},
   "outputs": [
    {
     "data": {
      "text/plain": [
       "Text(0.5, 0, 'number of cells received')"
      ]
     },
     "execution_count": 38,
     "metadata": {},
     "output_type": "execute_result"
    },
    {
     "data": {
      "image/png": "[encoded data removed]",
      "text/plain": [
       "<Figure size 640x480 with 1 Axes>"
      ]
     },
     "metadata": {},
     "output_type": "display_data"
    }
   ],
   "source": [
    "pmf_df = pd.DataFrame({'success':range(0,30),'pmf':list(stats.poisson.pmf(range(0,30),10))})\n",
    "sn.barplot(x=pmf_df.success, y = pmf_df.pmf)\n",
    "plt.xlabel('number of cells received')"
   ]
  },
  {
   "cell_type": "markdown",
   "metadata": {},
   "source": [
    "3. EXPONENTIAL DISTRIBUTION "
   ]
  },
  {
   "cell_type": "markdown",
   "metadata": {},
   "source": [
    "-----------------------------------------------------------------------------------------------------------------------------------------------------"
   ]
  },
  {
   "cell_type": "markdown",
   "metadata": {},
   "source": [
    "exponential distribution is a single parameter continues distribution that is traditionally used for modeling time to failure of electronic components. the exponential distribution represents a process in which events occur continuosly and independently at a contant average rate \n",
    "/--\\\n",
    "Example \n",
    "-> the probability that the system will fail before 1000 hours \n",
    "-> the probability that it will not fail up to 2000 hours "
   ]
  },
  {
   "cell_type": "code",
   "execution_count": 39,
   "metadata": {},
   "outputs": [
    {
     "data": {
      "text/plain": [
       "0.6321201909489326"
      ]
     },
     "execution_count": 39,
     "metadata": {},
     "output_type": "execute_result"
    }
   ],
   "source": [
    "# Calculate the probability that the system will fail before 1000 hours.\n",
    "stats.expon.cdf(1000,loc=1/1000,scale=1000)"
   ]
  },
  {
   "cell_type": "code",
   "execution_count": 40,
   "metadata": {},
   "outputs": [
    {
     "data": {
      "text/plain": [
       "0.13533541857196352"
      ]
     },
     "execution_count": 40,
     "metadata": {},
     "output_type": "execute_result"
    }
   ],
   "source": [
    "# calculate the probability that it will not fail up to 2000 hours.\n",
    "1-stats.expon.cdf(2000,loc=1/1000,scale=1000)"
   ]
  },
  {
   "cell_type": "code",
   "execution_count": 41,
   "metadata": {},
   "outputs": [
    {
     "data": {
      "text/plain": [
       "105.36151565782632"
      ]
     },
     "execution_count": 41,
     "metadata": {},
     "output_type": "execute_result"
    }
   ],
   "source": [
    "#Calculate the time by which 10% of the system will fail (i.e, calculate P10 life).\n",
    "stats.expon.ppf(0000.1,loc=1/1000,scale=1000)"
   ]
  },
  {
   "cell_type": "code",
   "execution_count": 42,
   "metadata": {},
   "outputs": [
    {
     "data": {
      "text/plain": [
       "Text(0.5, 0, 'time to failure')"
      ]
     },
     "execution_count": 42,
     "metadata": {},
     "output_type": "execute_result"
    },
    {
     "data": {
      "image/png": "[encoded data removed]",
      "text/plain": [
       "<Figure size 1000x400 with 1 Axes>"
      ]
     },
     "metadata": {},
     "output_type": "display_data"
    }
   ],
   "source": [
    "pmf_df =pd.DataFrame({'success':range(0,5000,100),'pdf':\n",
    "    list(stats.expon.pdf(range(0,5000,100),\n",
    "                         loc=1/1000,\n",
    "                         scale=1000))})\n",
    "plt.figure(figsize=(10,4))\n",
    "sn.barplot(x=pmf_df.success,y=pmf_df.pdf)\n",
    "plt.xticks(rotation=90)\n",
    "plt.xlabel('time to failure')"
   ]
  },
  {
   "cell_type": "markdown",
   "metadata": {},
   "source": [
    "4. Normal Distribution "
   ]
  },
  {
   "cell_type": "markdown",
   "metadata": {},
   "source": [
    "-----------------------------------------------------------------------------------------------------------------------------------------------------"
   ]
  },
  {
   "cell_type": "markdown",
   "metadata": {},
   "source": [
    "Normal distribution also known as gaussian distribution , is one of the most popular continues distribution in the field of analytics especially due to its use in  multiple contexts . Normal distribution is observed across many naturally occuring measures such as age , salary salesvolume , birth weigt, height etc . it is also popularity known as bell curve (as it shaped like a bell)\n",
    "  "
   ]
  },
  {
   "cell_type": "code",
   "execution_count": 43,
   "metadata": {},
   "outputs": [
    {
     "data": {
      "text/html": [
       "<div>\n",
       "<style scoped>\n",
       "    .dataframe tbody tr th:only-of-type {\n",
       "        vertical-align: middle;\n",
       "    }\n",
       "\n",
       "    .dataframe tbody tr th {\n",
       "        vertical-align: top;\n",
       "    }\n",
       "\n",
       "    .dataframe thead th {\n",
       "        text-align: right;\n",
       "    }\n",
       "</style>\n",
       "<table border=\"1\" class=\"dataframe\">\n",
       "  <thead>\n",
       "    <tr style=\"text-align: right;\">\n",
       "      <th></th>\n",
       "      <th>Date</th>\n",
       "      <th>Open</th>\n",
       "      <th>High</th>\n",
       "      <th>Low</th>\n",
       "      <th>Last</th>\n",
       "      <th>Close</th>\n",
       "      <th>Total Trade Quantity</th>\n",
       "      <th>Turnover (Lacs)</th>\n",
       "    </tr>\n",
       "  </thead>\n",
       "  <tbody>\n",
       "    <tr>\n",
       "      <th>0</th>\n",
       "      <td>2010-01-04</td>\n",
       "      <td>1121.0</td>\n",
       "      <td>1151.00</td>\n",
       "      <td>1121.00</td>\n",
       "      <td>1134.0</td>\n",
       "      <td>1135.60</td>\n",
       "      <td>101651.0</td>\n",
       "      <td>1157.18</td>\n",
       "    </tr>\n",
       "    <tr>\n",
       "      <th>1</th>\n",
       "      <td>2010-01-05</td>\n",
       "      <td>1146.8</td>\n",
       "      <td>1149.00</td>\n",
       "      <td>1128.75</td>\n",
       "      <td>1135.0</td>\n",
       "      <td>1134.60</td>\n",
       "      <td>59504.0</td>\n",
       "      <td>676.47</td>\n",
       "    </tr>\n",
       "    <tr>\n",
       "      <th>2</th>\n",
       "      <td>2010-01-06</td>\n",
       "      <td>1140.0</td>\n",
       "      <td>1164.25</td>\n",
       "      <td>1130.05</td>\n",
       "      <td>1137.0</td>\n",
       "      <td>1139.60</td>\n",
       "      <td>128908.0</td>\n",
       "      <td>1482.84</td>\n",
       "    </tr>\n",
       "    <tr>\n",
       "      <th>3</th>\n",
       "      <td>2010-01-07</td>\n",
       "      <td>1142.0</td>\n",
       "      <td>1159.40</td>\n",
       "      <td>1119.20</td>\n",
       "      <td>1141.0</td>\n",
       "      <td>1144.15</td>\n",
       "      <td>117871.0</td>\n",
       "      <td>1352.98</td>\n",
       "    </tr>\n",
       "    <tr>\n",
       "      <th>4</th>\n",
       "      <td>2010-01-08</td>\n",
       "      <td>1156.0</td>\n",
       "      <td>1172.00</td>\n",
       "      <td>1140.00</td>\n",
       "      <td>1141.2</td>\n",
       "      <td>1144.05</td>\n",
       "      <td>170063.0</td>\n",
       "      <td>1971.42</td>\n",
       "    </tr>\n",
       "    <tr>\n",
       "      <th>5</th>\n",
       "      <td>2010-01-11</td>\n",
       "      <td>1154.0</td>\n",
       "      <td>1159.45</td>\n",
       "      <td>1134.10</td>\n",
       "      <td>1140.1</td>\n",
       "      <td>1137.00</td>\n",
       "      <td>58910.0</td>\n",
       "      <td>674.55</td>\n",
       "    </tr>\n",
       "    <tr>\n",
       "      <th>6</th>\n",
       "      <td>2010-01-12</td>\n",
       "      <td>1150.0</td>\n",
       "      <td>1156.90</td>\n",
       "      <td>1117.05</td>\n",
       "      <td>1141.1</td>\n",
       "      <td>1143.65</td>\n",
       "      <td>113364.0</td>\n",
       "      <td>1296.07</td>\n",
       "    </tr>\n",
       "    <tr>\n",
       "      <th>7</th>\n",
       "      <td>2010-01-13</td>\n",
       "      <td>1130.0</td>\n",
       "      <td>1156.80</td>\n",
       "      <td>1125.00</td>\n",
       "      <td>1138.3</td>\n",
       "      <td>1142.25</td>\n",
       "      <td>55644.0</td>\n",
       "      <td>634.85</td>\n",
       "    </tr>\n",
       "    <tr>\n",
       "      <th>8</th>\n",
       "      <td>2010-01-14</td>\n",
       "      <td>1148.5</td>\n",
       "      <td>1168.50</td>\n",
       "      <td>1145.15</td>\n",
       "      <td>1148.0</td>\n",
       "      <td>1148.20</td>\n",
       "      <td>94256.0</td>\n",
       "      <td>1084.88</td>\n",
       "    </tr>\n",
       "    <tr>\n",
       "      <th>9</th>\n",
       "      <td>2010-01-15</td>\n",
       "      <td>1159.9</td>\n",
       "      <td>1232.00</td>\n",
       "      <td>1151.00</td>\n",
       "      <td>1205.0</td>\n",
       "      <td>1207.05</td>\n",
       "      <td>491686.0</td>\n",
       "      <td>5937.04</td>\n",
       "    </tr>\n",
       "  </tbody>\n",
       "</table>\n",
       "</div>"
      ],
      "text/plain": [
       "         Date    Open     High      Low    Last    Close  \\\n",
       "0  2010-01-04  1121.0  1151.00  1121.00  1134.0  1135.60   \n",
       "1  2010-01-05  1146.8  1149.00  1128.75  1135.0  1134.60   \n",
       "2  2010-01-06  1140.0  1164.25  1130.05  1137.0  1139.60   \n",
       "3  2010-01-07  1142.0  1159.40  1119.20  1141.0  1144.15   \n",
       "4  2010-01-08  1156.0  1172.00  1140.00  1141.2  1144.05   \n",
       "5  2010-01-11  1154.0  1159.45  1134.10  1140.1  1137.00   \n",
       "6  2010-01-12  1150.0  1156.90  1117.05  1141.1  1143.65   \n",
       "7  2010-01-13  1130.0  1156.80  1125.00  1138.3  1142.25   \n",
       "8  2010-01-14  1148.5  1168.50  1145.15  1148.0  1148.20   \n",
       "9  2010-01-15  1159.9  1232.00  1151.00  1205.0  1207.05   \n",
       "\n",
       "   Total Trade Quantity  Turnover (Lacs)  \n",
       "0              101651.0          1157.18  \n",
       "1               59504.0           676.47  \n",
       "2              128908.0          1482.84  \n",
       "3              117871.0          1352.98  \n",
       "4              170063.0          1971.42  \n",
       "5               58910.0           674.55  \n",
       "6              113364.0          1296.07  \n",
       "7               55644.0           634.85  \n",
       "8               94256.0          1084.88  \n",
       "9              491686.0          5937.04  "
      ]
     },
     "execution_count": 43,
     "metadata": {},
     "output_type": "execute_result"
    }
   ],
   "source": [
    "beml_df= pd.read_csv('/Users/manishswami/Desktop/DATA-SCIENCE/archive/BEML.csv')\n",
    "beml_df[0:10]"
   ]
  },
  {
   "cell_type": "code",
   "execution_count": 44,
   "metadata": {},
   "outputs": [
    {
     "data": {
      "text/html": [
       "<div>\n",
       "<style scoped>\n",
       "    .dataframe tbody tr th:only-of-type {\n",
       "        vertical-align: middle;\n",
       "    }\n",
       "\n",
       "    .dataframe tbody tr th {\n",
       "        vertical-align: top;\n",
       "    }\n",
       "\n",
       "    .dataframe thead th {\n",
       "        text-align: right;\n",
       "    }\n",
       "</style>\n",
       "<table border=\"1\" class=\"dataframe\">\n",
       "  <thead>\n",
       "    <tr style=\"text-align: right;\">\n",
       "      <th></th>\n",
       "      <th>Date</th>\n",
       "      <th>Open</th>\n",
       "      <th>High</th>\n",
       "      <th>Low</th>\n",
       "      <th>Last</th>\n",
       "      <th>Close</th>\n",
       "      <th>Total Trade Quantity</th>\n",
       "      <th>Turnover (Lacs)</th>\n",
       "    </tr>\n",
       "  </thead>\n",
       "  <tbody>\n",
       "    <tr>\n",
       "      <th>0</th>\n",
       "      <td>2010-01-04</td>\n",
       "      <td>1613.00</td>\n",
       "      <td>1629.10</td>\n",
       "      <td>1602.00</td>\n",
       "      <td>1629.00</td>\n",
       "      <td>1625.65</td>\n",
       "      <td>9365.0</td>\n",
       "      <td>151.74</td>\n",
       "    </tr>\n",
       "    <tr>\n",
       "      <th>1</th>\n",
       "      <td>2010-01-05</td>\n",
       "      <td>1639.95</td>\n",
       "      <td>1639.95</td>\n",
       "      <td>1611.05</td>\n",
       "      <td>1620.00</td>\n",
       "      <td>1616.80</td>\n",
       "      <td>38148.0</td>\n",
       "      <td>622.58</td>\n",
       "    </tr>\n",
       "    <tr>\n",
       "      <th>2</th>\n",
       "      <td>2010-01-06</td>\n",
       "      <td>1618.00</td>\n",
       "      <td>1644.00</td>\n",
       "      <td>1617.00</td>\n",
       "      <td>1639.00</td>\n",
       "      <td>1638.50</td>\n",
       "      <td>36519.0</td>\n",
       "      <td>595.09</td>\n",
       "    </tr>\n",
       "    <tr>\n",
       "      <th>3</th>\n",
       "      <td>2010-01-07</td>\n",
       "      <td>1645.00</td>\n",
       "      <td>1654.00</td>\n",
       "      <td>1636.00</td>\n",
       "      <td>1648.00</td>\n",
       "      <td>1648.70</td>\n",
       "      <td>12809.0</td>\n",
       "      <td>211.00</td>\n",
       "    </tr>\n",
       "    <tr>\n",
       "      <th>4</th>\n",
       "      <td>2010-01-08</td>\n",
       "      <td>1650.00</td>\n",
       "      <td>1650.00</td>\n",
       "      <td>1626.55</td>\n",
       "      <td>1640.00</td>\n",
       "      <td>1639.80</td>\n",
       "      <td>28035.0</td>\n",
       "      <td>459.11</td>\n",
       "    </tr>\n",
       "    <tr>\n",
       "      <th>5</th>\n",
       "      <td>2010-01-11</td>\n",
       "      <td>1659.00</td>\n",
       "      <td>1694.95</td>\n",
       "      <td>1601.05</td>\n",
       "      <td>1630.00</td>\n",
       "      <td>1629.45</td>\n",
       "      <td>10566.0</td>\n",
       "      <td>173.40</td>\n",
       "    </tr>\n",
       "    <tr>\n",
       "      <th>6</th>\n",
       "      <td>2010-01-12</td>\n",
       "      <td>1630.00</td>\n",
       "      <td>1635.00</td>\n",
       "      <td>1578.00</td>\n",
       "      <td>1592.00</td>\n",
       "      <td>1583.85</td>\n",
       "      <td>47274.0</td>\n",
       "      <td>756.75</td>\n",
       "    </tr>\n",
       "    <tr>\n",
       "      <th>7</th>\n",
       "      <td>2010-01-13</td>\n",
       "      <td>1592.00</td>\n",
       "      <td>1605.90</td>\n",
       "      <td>1566.00</td>\n",
       "      <td>1568.00</td>\n",
       "      <td>1571.30</td>\n",
       "      <td>20709.0</td>\n",
       "      <td>327.53</td>\n",
       "    </tr>\n",
       "    <tr>\n",
       "      <th>8</th>\n",
       "      <td>2010-01-14</td>\n",
       "      <td>1580.00</td>\n",
       "      <td>1595.00</td>\n",
       "      <td>1562.40</td>\n",
       "      <td>1572.20</td>\n",
       "      <td>1573.55</td>\n",
       "      <td>13453.0</td>\n",
       "      <td>212.09</td>\n",
       "    </tr>\n",
       "    <tr>\n",
       "      <th>9</th>\n",
       "      <td>2010-01-15</td>\n",
       "      <td>1581.10</td>\n",
       "      <td>1585.00</td>\n",
       "      <td>1565.00</td>\n",
       "      <td>1565.15</td>\n",
       "      <td>1570.40</td>\n",
       "      <td>6408.0</td>\n",
       "      <td>101.06</td>\n",
       "    </tr>\n",
       "  </tbody>\n",
       "</table>\n",
       "</div>"
      ],
      "text/plain": [
       "         Date     Open     High      Low     Last    Close  \\\n",
       "0  2010-01-04  1613.00  1629.10  1602.00  1629.00  1625.65   \n",
       "1  2010-01-05  1639.95  1639.95  1611.05  1620.00  1616.80   \n",
       "2  2010-01-06  1618.00  1644.00  1617.00  1639.00  1638.50   \n",
       "3  2010-01-07  1645.00  1654.00  1636.00  1648.00  1648.70   \n",
       "4  2010-01-08  1650.00  1650.00  1626.55  1640.00  1639.80   \n",
       "5  2010-01-11  1659.00  1694.95  1601.05  1630.00  1629.45   \n",
       "6  2010-01-12  1630.00  1635.00  1578.00  1592.00  1583.85   \n",
       "7  2010-01-13  1592.00  1605.90  1566.00  1568.00  1571.30   \n",
       "8  2010-01-14  1580.00  1595.00  1562.40  1572.20  1573.55   \n",
       "9  2010-01-15  1581.10  1585.00  1565.00  1565.15  1570.40   \n",
       "\n",
       "   Total Trade Quantity  Turnover (Lacs)  \n",
       "0                9365.0           151.74  \n",
       "1               38148.0           622.58  \n",
       "2               36519.0           595.09  \n",
       "3               12809.0           211.00  \n",
       "4               28035.0           459.11  \n",
       "5               10566.0           173.40  \n",
       "6               47274.0           756.75  \n",
       "7               20709.0           327.53  \n",
       "8               13453.0           212.09  \n",
       "9                6408.0           101.06  "
      ]
     },
     "execution_count": 44,
     "metadata": {},
     "output_type": "execute_result"
    }
   ],
   "source": [
    "glaxo_df = pd.read_csv('/Users/manishswami/Desktop/DATA-SCIENCE/archive/GLAXO.csv')\n",
    "glaxo_df[0:10]"
   ]
  },
  {
   "cell_type": "code",
   "execution_count": 45,
   "metadata": {},
   "outputs": [
    {
     "data": {
      "text/html": [
       "<div>\n",
       "<style scoped>\n",
       "    .dataframe tbody tr th:only-of-type {\n",
       "        vertical-align: middle;\n",
       "    }\n",
       "\n",
       "    .dataframe tbody tr th {\n",
       "        vertical-align: top;\n",
       "    }\n",
       "\n",
       "    .dataframe thead th {\n",
       "        text-align: right;\n",
       "    }\n",
       "</style>\n",
       "<table border=\"1\" class=\"dataframe\">\n",
       "  <thead>\n",
       "    <tr style=\"text-align: right;\">\n",
       "      <th></th>\n",
       "      <th>Date</th>\n",
       "      <th>Close</th>\n",
       "    </tr>\n",
       "  </thead>\n",
       "  <tbody>\n",
       "    <tr>\n",
       "      <th>0</th>\n",
       "      <td>2010-01-04</td>\n",
       "      <td>1135.60</td>\n",
       "    </tr>\n",
       "    <tr>\n",
       "      <th>1</th>\n",
       "      <td>2010-01-05</td>\n",
       "      <td>1134.60</td>\n",
       "    </tr>\n",
       "    <tr>\n",
       "      <th>2</th>\n",
       "      <td>2010-01-06</td>\n",
       "      <td>1139.60</td>\n",
       "    </tr>\n",
       "    <tr>\n",
       "      <th>3</th>\n",
       "      <td>2010-01-07</td>\n",
       "      <td>1144.15</td>\n",
       "    </tr>\n",
       "    <tr>\n",
       "      <th>4</th>\n",
       "      <td>2010-01-08</td>\n",
       "      <td>1144.05</td>\n",
       "    </tr>\n",
       "    <tr>\n",
       "      <th>5</th>\n",
       "      <td>2010-01-11</td>\n",
       "      <td>1137.00</td>\n",
       "    </tr>\n",
       "    <tr>\n",
       "      <th>6</th>\n",
       "      <td>2010-01-12</td>\n",
       "      <td>1143.65</td>\n",
       "    </tr>\n",
       "    <tr>\n",
       "      <th>7</th>\n",
       "      <td>2010-01-13</td>\n",
       "      <td>1142.25</td>\n",
       "    </tr>\n",
       "    <tr>\n",
       "      <th>8</th>\n",
       "      <td>2010-01-14</td>\n",
       "      <td>1148.20</td>\n",
       "    </tr>\n",
       "    <tr>\n",
       "      <th>9</th>\n",
       "      <td>2010-01-15</td>\n",
       "      <td>1207.05</td>\n",
       "    </tr>\n",
       "  </tbody>\n",
       "</table>\n",
       "</div>"
      ],
      "text/plain": [
       "         Date    Close\n",
       "0  2010-01-04  1135.60\n",
       "1  2010-01-05  1134.60\n",
       "2  2010-01-06  1139.60\n",
       "3  2010-01-07  1144.15\n",
       "4  2010-01-08  1144.05\n",
       "5  2010-01-11  1137.00\n",
       "6  2010-01-12  1143.65\n",
       "7  2010-01-13  1142.25\n",
       "8  2010-01-14  1148.20\n",
       "9  2010-01-15  1207.05"
      ]
     },
     "execution_count": 45,
     "metadata": {},
     "output_type": "execute_result"
    }
   ],
   "source": [
    "beml_df = beml_df[['Date','Close']]\n",
    "glaxo_df = glaxo_df[['Date','Close']]\n",
    "beml_df[0:10]"
   ]
  },
  {
   "cell_type": "code",
   "execution_count": 46,
   "metadata": {},
   "outputs": [],
   "source": [
    "glaxo_df = glaxo_df.set_index(pd.DatetimeIndex(glaxo_df['Date']))\n",
    "beml_df = beml_df.set_index(pd.DatetimeIndex(beml_df['Date']))"
   ]
  },
  {
   "cell_type": "code",
   "execution_count": 47,
   "metadata": {},
   "outputs": [
    {
     "data": {
      "text/html": [
       "<div>\n",
       "<style scoped>\n",
       "    .dataframe tbody tr th:only-of-type {\n",
       "        vertical-align: middle;\n",
       "    }\n",
       "\n",
       "    .dataframe tbody tr th {\n",
       "        vertical-align: top;\n",
       "    }\n",
       "\n",
       "    .dataframe thead th {\n",
       "        text-align: right;\n",
       "    }\n",
       "</style>\n",
       "<table border=\"1\" class=\"dataframe\">\n",
       "  <thead>\n",
       "    <tr style=\"text-align: right;\">\n",
       "      <th></th>\n",
       "      <th>Date</th>\n",
       "      <th>Close</th>\n",
       "    </tr>\n",
       "    <tr>\n",
       "      <th>Date</th>\n",
       "      <th></th>\n",
       "      <th></th>\n",
       "    </tr>\n",
       "  </thead>\n",
       "  <tbody>\n",
       "    <tr>\n",
       "      <th>2010-01-04</th>\n",
       "      <td>2010-01-04</td>\n",
       "      <td>1625.65</td>\n",
       "    </tr>\n",
       "    <tr>\n",
       "      <th>2010-01-05</th>\n",
       "      <td>2010-01-05</td>\n",
       "      <td>1616.80</td>\n",
       "    </tr>\n",
       "    <tr>\n",
       "      <th>2010-01-06</th>\n",
       "      <td>2010-01-06</td>\n",
       "      <td>1638.50</td>\n",
       "    </tr>\n",
       "    <tr>\n",
       "      <th>2010-01-07</th>\n",
       "      <td>2010-01-07</td>\n",
       "      <td>1648.70</td>\n",
       "    </tr>\n",
       "    <tr>\n",
       "      <th>2010-01-08</th>\n",
       "      <td>2010-01-08</td>\n",
       "      <td>1639.80</td>\n",
       "    </tr>\n",
       "  </tbody>\n",
       "</table>\n",
       "</div>"
      ],
      "text/plain": [
       "                  Date    Close\n",
       "Date                           \n",
       "2010-01-04  2010-01-04  1625.65\n",
       "2010-01-05  2010-01-05  1616.80\n",
       "2010-01-06  2010-01-06  1638.50\n",
       "2010-01-07  2010-01-07  1648.70\n",
       "2010-01-08  2010-01-08  1639.80"
      ]
     },
     "execution_count": 47,
     "metadata": {},
     "output_type": "execute_result"
    }
   ],
   "source": [
    "glaxo_df.head(5)"
   ]
  },
  {
   "cell_type": "code",
   "execution_count": 48,
   "metadata": {},
   "outputs": [
    {
     "data": {
      "text/plain": [
       "Text(0, 0.5, 'close price')"
      ]
     },
     "execution_count": 48,
     "metadata": {},
     "output_type": "execute_result"
    },
    {
     "data": {
      "image/png": "[encoded data removed]",
      "text/plain": [
       "<Figure size 640x480 with 1 Axes>"
      ]
     },
     "metadata": {},
     "output_type": "display_data"
    }
   ],
   "source": [
    "plt.plot(glaxo_df['Close'])\n",
    "plt.xlabel('time')\n",
    "plt.ylabel('close price')\n"
   ]
  },
  {
   "cell_type": "code",
   "execution_count": 49,
   "metadata": {},
   "outputs": [
    {
     "data": {
      "text/plain": [
       "Text(0, 0.5, 'Close')"
      ]
     },
     "execution_count": 49,
     "metadata": {},
     "output_type": "execute_result"
    },
    {
     "data": {
      "image/png": "[encoded data removed]",
      "text/plain": [
       "<Figure size 640x480 with 1 Axes>"
      ]
     },
     "metadata": {},
     "output_type": "display_data"
    }
   ],
   "source": [
    "plt.plot(beml_df.Close)\n",
    "plt.xlabel('Time')\n",
    "plt.ylabel('Close')"
   ]
  },
  {
   "cell_type": "code",
   "execution_count": 50,
   "metadata": {},
   "outputs": [
    {
     "name": "stdout",
     "output_type": "stream",
     "text": [
      "                  Date    Close      gain\n",
      "Date                                     \n",
      "2010-01-04  2010-01-04  1625.65       NaN\n",
      "2010-01-05  2010-01-05  1616.80 -0.005444\n",
      "2010-01-06  2010-01-06  1638.50  0.013422\n",
      "2010-01-07  2010-01-07  1648.70  0.006225\n",
      "2010-01-08  2010-01-08  1639.80 -0.005398\n",
      "2010-01-11  2010-01-11  1629.45 -0.006312\n",
      "2010-01-12  2010-01-12  1583.85 -0.027985\n",
      "2010-01-13  2010-01-13  1571.30 -0.007924\n",
      "2010-01-14  2010-01-14  1573.55  0.001432\n",
      "2010-01-15  2010-01-15  1570.40 -0.002002\n",
      "                  Date    Close      gain\n",
      "Date                                     \n",
      "2010-01-04  2010-01-04  1135.60       NaN\n",
      "2010-01-05  2010-01-05  1134.60 -0.000881\n",
      "2010-01-06  2010-01-06  1139.60  0.004407\n",
      "2010-01-07  2010-01-07  1144.15  0.003993\n",
      "2010-01-08  2010-01-08  1144.05 -0.000087\n",
      "2010-01-11  2010-01-11  1137.00 -0.006162\n",
      "2010-01-12  2010-01-12  1143.65  0.005849\n",
      "2010-01-13  2010-01-13  1142.25 -0.001224\n",
      "2010-01-14  2010-01-14  1148.20  0.005209\n",
      "2010-01-15  2010-01-15  1207.05  0.051254\n"
     ]
    }
   ],
   "source": [
    "glaxo_df['gain']=glaxo_df.Close.pct_change(periods=1)\n",
    "beml_df['gain']=beml_df.Close.pct_change(periods=1)\n",
    "print(glaxo_df.head(10))\n",
    "print(beml_df.head(10))"
   ]
  },
  {
   "cell_type": "code",
   "execution_count": 51,
   "metadata": {},
   "outputs": [
    {
     "data": {
      "text/html": [
       "<div>\n",
       "<style scoped>\n",
       "    .dataframe tbody tr th:only-of-type {\n",
       "        vertical-align: middle;\n",
       "    }\n",
       "\n",
       "    .dataframe tbody tr th {\n",
       "        vertical-align: top;\n",
       "    }\n",
       "\n",
       "    .dataframe thead th {\n",
       "        text-align: right;\n",
       "    }\n",
       "</style>\n",
       "<table border=\"1\" class=\"dataframe\">\n",
       "  <thead>\n",
       "    <tr style=\"text-align: right;\">\n",
       "      <th></th>\n",
       "      <th>Date</th>\n",
       "      <th>Close</th>\n",
       "      <th>gain</th>\n",
       "    </tr>\n",
       "    <tr>\n",
       "      <th>Date</th>\n",
       "      <th></th>\n",
       "      <th></th>\n",
       "      <th></th>\n",
       "    </tr>\n",
       "  </thead>\n",
       "  <tbody>\n",
       "    <tr>\n",
       "      <th>2010-01-05</th>\n",
       "      <td>2010-01-05</td>\n",
       "      <td>1134.60</td>\n",
       "      <td>-0.000881</td>\n",
       "    </tr>\n",
       "    <tr>\n",
       "      <th>2010-01-06</th>\n",
       "      <td>2010-01-06</td>\n",
       "      <td>1139.60</td>\n",
       "      <td>0.004407</td>\n",
       "    </tr>\n",
       "    <tr>\n",
       "      <th>2010-01-07</th>\n",
       "      <td>2010-01-07</td>\n",
       "      <td>1144.15</td>\n",
       "      <td>0.003993</td>\n",
       "    </tr>\n",
       "    <tr>\n",
       "      <th>2010-01-08</th>\n",
       "      <td>2010-01-08</td>\n",
       "      <td>1144.05</td>\n",
       "      <td>-0.000087</td>\n",
       "    </tr>\n",
       "    <tr>\n",
       "      <th>2010-01-11</th>\n",
       "      <td>2010-01-11</td>\n",
       "      <td>1137.00</td>\n",
       "      <td>-0.006162</td>\n",
       "    </tr>\n",
       "    <tr>\n",
       "      <th>2010-01-12</th>\n",
       "      <td>2010-01-12</td>\n",
       "      <td>1143.65</td>\n",
       "      <td>0.005849</td>\n",
       "    </tr>\n",
       "    <tr>\n",
       "      <th>2010-01-13</th>\n",
       "      <td>2010-01-13</td>\n",
       "      <td>1142.25</td>\n",
       "      <td>-0.001224</td>\n",
       "    </tr>\n",
       "    <tr>\n",
       "      <th>2010-01-14</th>\n",
       "      <td>2010-01-14</td>\n",
       "      <td>1148.20</td>\n",
       "      <td>0.005209</td>\n",
       "    </tr>\n",
       "    <tr>\n",
       "      <th>2010-01-15</th>\n",
       "      <td>2010-01-15</td>\n",
       "      <td>1207.05</td>\n",
       "      <td>0.051254</td>\n",
       "    </tr>\n",
       "  </tbody>\n",
       "</table>\n",
       "</div>"
      ],
      "text/plain": [
       "                  Date    Close      gain\n",
       "Date                                     \n",
       "2010-01-05  2010-01-05  1134.60 -0.000881\n",
       "2010-01-06  2010-01-06  1139.60  0.004407\n",
       "2010-01-07  2010-01-07  1144.15  0.003993\n",
       "2010-01-08  2010-01-08  1144.05 -0.000087\n",
       "2010-01-11  2010-01-11  1137.00 -0.006162\n",
       "2010-01-12  2010-01-12  1143.65  0.005849\n",
       "2010-01-13  2010-01-13  1142.25 -0.001224\n",
       "2010-01-14  2010-01-14  1148.20  0.005209\n",
       "2010-01-15  2010-01-15  1207.05  0.051254"
      ]
     },
     "execution_count": 51,
     "metadata": {},
     "output_type": "execute_result"
    }
   ],
   "source": [
    "glaxo_df= glaxo_df.dropna()\n",
    "beml_df= beml_df.dropna()\n",
    "beml_df[0:9]"
   ]
  },
  {
   "cell_type": "code",
   "execution_count": 52,
   "metadata": {},
   "outputs": [
    {
     "data": {
      "text/plain": [
       "Text(0, 0.5, 'gain')"
      ]
     },
     "execution_count": 52,
     "metadata": {},
     "output_type": "execute_result"
    },
    {
     "data": {
      "image/png": "[encoded data removed]",
      "text/plain": [
       "<Figure size 800x600 with 1 Axes>"
      ]
     },
     "metadata": {},
     "output_type": "display_data"
    }
   ],
   "source": [
    "plt.figure(figsize=(8,6))\n",
    "plt.plot(glaxo_df.index,glaxo_df.gain)\n",
    "plt.xlabel('Time')\n",
    "plt.ylabel('gain')"
   ]
  },
  {
   "cell_type": "code",
   "execution_count": 53,
   "metadata": {},
   "outputs": [
    {
     "data": {
      "text/plain": [
       "<matplotlib.legend.Legend at 0x126fa93d0>"
      ]
     },
     "execution_count": 53,
     "metadata": {},
     "output_type": "execute_result"
    },
    {
     "data": {
      "image/png": "[encoded data removed]",
      "text/plain": [
       "<Figure size 640x480 with 1 Axes>"
      ]
     },
     "metadata": {},
     "output_type": "display_data"
    }
   ],
   "source": [
    "sn.histplot(glaxo_df.gain,label='Glaxo',element='poly',kde=True)\n",
    "sn.histplot(beml_df.gain, label='BEML',element='poly',kde=True)\n",
    "plt.xlabel('gain')\n",
    "plt.ylabel('Density')\n",
    "plt.legend()"
   ]
  },
  {
   "cell_type": "markdown",
   "metadata": {},
   "source": [
    "5. Mean and Variance"
   ]
  },
  {
   "cell_type": "markdown",
   "metadata": {},
   "source": [
    "-----------------------------------------------------------------------------------------------------------------------------------------------------"
   ]
  },
  {
   "cell_type": "markdown",
   "metadata": {},
   "source": [
    "The normal distribution is paramererized by two parameters: the mean of the distribution U and the variance a^2. the sample mean of a normal distribution "
   ]
  },
  {
   "cell_type": "markdown",
   "metadata": {},
   "source": [
    "The standard deviation is sqaure root of variance and is denoted by a\n",
    "Methods mean() and std() on DataFrame columns return mean and standard deviation , respectively . mean and Standard deviation for daily return for Glaxo are:"
   ]
  },
  {
   "cell_type": "code",
   "execution_count": 54,
   "metadata": {},
   "outputs": [
    {
     "name": "stdout",
     "output_type": "stream",
     "text": [
      "Daily gain of Glaxo\n",
      "-------------------\n",
      "Mean:  0.0004\n",
      "Standard Deviation:  0.0134\n"
     ]
    }
   ],
   "source": [
    "print(\"Daily gain of Glaxo\")\n",
    "print(\"-------------------\")\n",
    "print(\"Mean: \",round(glaxo_df.gain.mean(), 4))\n",
    "print(\"Standard Deviation: \", round(glaxo_df.gain.std(), 4))"
   ]
  },
  {
   "cell_type": "code",
   "execution_count": 55,
   "metadata": {},
   "outputs": [
    {
     "name": "stdout",
     "output_type": "stream",
     "text": [
      "Daily gain of BEML\n",
      "-------------------\n",
      "Mean:  0.0003\n",
      "Standard Deviation:  0.0264\n"
     ]
    }
   ],
   "source": [
    "# Mean and standard deviation for daily return for BEML are:\n",
    "print(\"Daily gain of BEML\")\n",
    "print(\"-------------------\")\n",
    "print(\"Mean: \",round(beml_df.gain.mean(), 4))\n",
    "print(\"Standard Deviation: \", round(beml_df.gain.std(), 4))"
   ]
  },
  {
   "cell_type": "code",
   "execution_count": 56,
   "metadata": {},
   "outputs": [
    {
     "data": {
      "text/plain": [
       "count    1738.000000\n",
       "mean        0.000271\n",
       "std         0.026431\n",
       "min        -0.133940\n",
       "25%        -0.013736\n",
       "50%        -0.001541\n",
       "75%         0.011985\n",
       "max         0.198329\n",
       "Name: gain, dtype: float64"
      ]
     },
     "execution_count": 56,
     "metadata": {},
     "output_type": "execute_result"
    }
   ],
   "source": [
    "# The derscibe() method of DataFrame return the detailed statistical summary of a variable.\n",
    "beml_df.gain.describe()"
   ]
  },
  {
   "cell_type": "markdown",
   "metadata": {},
   "source": [
    "6. Confidence interval "
   ]
  },
  {
   "cell_type": "markdown",
   "metadata": {},
   "source": [
    "-----------------------------------------------------------------------------------------------------------------------------------------------------"
   ]
  },
  {
   "cell_type": "markdown",
   "metadata": {},
   "source": [
    "To find out what is the expected range of return for 95% confidence interval , we need to calculate the values of gain for two standard deviations away from mean on both sides of the distribution , that is (U +- 2a).   "
   ]
  },
  {
   "cell_type": "markdown",
   "metadata": {},
   "source": [
    "-> alpha : it is the interval , for example 0.9 for 90% confidence interval.\n",
    "                                                                                                                                                        \n",
    "-> loc: it is the location parameter of the distribution . it is mean of normal distribution.\n",
    "                                                                                                                                                    \n",
    "-> scale: it is the sclae parameter of the distribution .it is standard deviation for normal distribution.\n"
   ]
  },
  {
   "cell_type": "code",
   "execution_count": 57,
   "metadata": {},
   "outputs": [
    {
     "name": "stdout",
     "output_type": "stream",
     "text": [
      "Gain at 95% confidence interval is:  [-0.0258  0.0266]\n"
     ]
    }
   ],
   "source": [
    "glaxo_df_ci = stats.norm.interval(0.95,loc = glaxo_df.gain.mean(),scale= glaxo_df.gain.std())\n",
    "print(\"Gain at 95% confidence interval is: \", np.round(glaxo_df_ci,4))"
   ]
  },
  {
   "cell_type": "markdown",
   "metadata": {},
   "source": [
    "The result returned by the method is a tuple . the first value of the tuple is the leftmost value of the interval and second value is the rightmost value of the interval. for 95% confidence interval , gain of glaxo remain between -2.58% and 2.66% \n"
   ]
  },
  {
   "cell_type": "code",
   "execution_count": 58,
   "metadata": {},
   "outputs": [
    {
     "name": "stdout",
     "output_type": "stream",
     "text": [
      "Gain at 95% confidence interval is:  [-0.0515  0.0521]\n"
     ]
    }
   ],
   "source": [
    "beml_df_ci = stats.norm.interval(0.95,loc = beml_df.gain.mean(),scale= beml_df.gain.std())\n",
    "print(\"Gain at 95% confidence interval is: \", np.round(beml_df_ci,4))"
   ]
  },
  {
   "cell_type": "markdown",
   "metadata": {},
   "source": [
    "7. Cumulative Probability Distribution \n"
   ]
  },
  {
   "cell_type": "markdown",
   "metadata": {},
   "source": [
    "-----------------------------------------------------------------------------------------------------------------------------------------------------"
   ]
  }
 ],
 "metadata": {
  "kernelspec": {
   "display_name": "DATA-SCIENCE",
   "language": "python",
   "name": "python3"
  },
  "language_info": {
   "codemirror_mode": {
    "name": "ipython",
    "version": 3
   },
   "file_extension": ".py",
   "mimetype": "text/x-python",
   "name": "python",
   "nbconvert_exporter": "python",
   "pygments_lexer": "ipython3",
   "version": "3.11.4"
  }
 },
 "nbformat": 4,
 "nbformat_minor": 2
}
